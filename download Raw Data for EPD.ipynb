{
 "cells": [
  {
   "cell_type": "markdown",
   "metadata": {},
   "source": [
    "# Autodownload Data from URL\n",
    "\n",
    "The notebook shows you how you can download data (or just click a URL) from web. <br>\n",
    "\n",
    "Github link: https://github.com/kychanbp/autodownload-from-web/blob/master/download%20Raw%20Data%20for%20EPD.ipynb <br>\n",
    "\n",
    "LinkdeIn Post (detail description): https://www.linkedin.com/pulse/how-download-lots-files-from-web-automatically-kai-yin-chan-john/?trackingId=jXvGDMClvKgGhvy3tObyYQ%3D%3D"
   ]
  },
  {
   "cell_type": "code",
   "execution_count": 1,
   "metadata": {
    "collapsed": true
   },
   "outputs": [],
   "source": [
    "import requests\n",
    "from datetime import timedelta, date\n",
    "import time"
   ]
  },
  {
   "cell_type": "markdown",
   "metadata": {},
   "source": [
    "## User Inputs"
   ]
  },
  {
   "cell_type": "code",
   "execution_count": 2,
   "metadata": {},
   "outputs": [],
   "source": [
    "#proxy address if you are using company network\n",
    "proxies ={'http':'http://202.130.161.208'} #please change this/ comment out if you don't need it.\n",
    "\n",
    "#the URL you are going to click\n",
    "url = 'http://apex2.msc-service.net/HSF/EnvReport/HSF_export_data.php?export_date={}' #a string place holder {} included. Need to change in a case by case basis\n",
    "\n",
    "#file location\n",
    "directory = 'P:/Hong Kong/ENL/PROJECTS/355482 HKIA 3RS ET Services/09 Env Monitoring/02 Impact Data/06 High Speed Ferry/201712/Raw Data to EPD/'\n",
    "\n",
    "#date range in which the program is going to loop\n",
    "start_dt = date(2017, 12, 1)\n",
    "end_dt = date(2017, 12, 31)"
   ]
  },
  {
   "cell_type": "code",
   "execution_count": 3,
   "metadata": {
    "collapsed": true
   },
   "outputs": [],
   "source": [
    "def daterange(date1, date2):\n",
    "    for n in range(int ((date2 - date1).days)+1):\n",
    "        yield date1 + timedelta(n)"
   ]
  },
  {
   "cell_type": "markdown",
   "metadata": {},
   "source": [
    "## Some small changes needed here\n",
    "\n",
    "If you use proxy, please comment out one of the r = request.get(). <br>\n",
    "\n",
    "You may also want to change the codes below to change the format of file names and file type."
   ]
  },
  {
   "cell_type": "code",
   "execution_count": 4,
   "metadata": {},
   "outputs": [],
   "source": [
    "for dt in daterange(start_dt, end_dt):\n",
    "    date = dt.strftime(\"%d-%b-%Y\") #date format\n",
    "    file_name = date.upper() +'.csv' #file name\n",
    "    url_filled = url.format(date)\n",
    "    \n",
    "    r = requests.get(url_filled, proxies=proxies) #comment out if you dont need proxy\n",
    "    #r =  requests.get(url_filled) #comment out if you need proxy\n",
    "    \n",
    "    with open(directory + file_name, \"wb\") as code:\n",
    "        code.write(r.content)\n",
    "    \n",
    "    time.sleep(3)"
   ]
  }
 ],
 "metadata": {
  "kernelspec": {
   "display_name": "Python 3",
   "language": "python",
   "name": "python3"
  },
  "language_info": {
   "codemirror_mode": {
    "name": "ipython",
    "version": 3
   },
   "file_extension": ".py",
   "mimetype": "text/x-python",
   "name": "python",
   "nbconvert_exporter": "python",
   "pygments_lexer": "ipython3",
   "version": "3.5.3"
  }
 },
 "nbformat": 4,
 "nbformat_minor": 2
}
