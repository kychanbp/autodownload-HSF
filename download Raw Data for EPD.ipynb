{
 "cells": [
  {
   "cell_type": "code",
   "execution_count": 1,
   "metadata": {
    "collapsed": true
   },
   "outputs": [],
   "source": [
    "import requests\n",
    "from datetime import timedelta, date\n",
    "import time"
   ]
  },
  {
   "cell_type": "code",
   "execution_count": 2,
   "metadata": {
    "collapsed": true
   },
   "outputs": [],
   "source": [
    "#the URL for download\n",
    "url = 'http://apex2.msc-service.net/HSF/EnvReport/HSF_export_data.php?export_date={}'"
   ]
  },
  {
   "cell_type": "code",
   "execution_count": 3,
   "metadata": {
    "collapsed": true
   },
   "outputs": [],
   "source": [
    "#define the proxy\n",
    "proxies ={'http':'http://202.130.161.208'}"
   ]
  },
  {
   "cell_type": "code",
   "execution_count": 4,
   "metadata": {
    "collapsed": true
   },
   "outputs": [],
   "source": [
    "def daterange(date1, date2):\n",
    "    for n in range(int ((date2 - date1).days)+1):\n",
    "        yield date1 + timedelta(n)"
   ]
  },
  {
   "cell_type": "code",
   "execution_count": 5,
   "metadata": {
    "collapsed": true
   },
   "outputs": [],
   "source": [
    "start_dt = date(2017, 12, 1)\n",
    "end_dt = date(2017, 12, 31)"
   ]
  },
  {
   "cell_type": "code",
   "execution_count": 6,
   "metadata": {
    "collapsed": true
   },
   "outputs": [],
   "source": [
    "for dt in daterange(start_dt, end_dt):\n",
    "    date = dt.strftime(\"%d-%b-%Y\")\n",
    "    file_name = date.upper() +'.csv'\n",
    "    directory = 'P:/Hong Kong/ENL/PROJECTS/355482 HKIA 3RS ET Services/09 Env Monitoring/02 Impact Data/06 High Speed Ferry/201712/Raw Data to EPD/'\n",
    "    url_filled = url.format(date)\n",
    "    \n",
    "    r = requests.get(url_filled, proxies=proxies)\n",
    "    \n",
    "    with open(directory + file_name, \"wb\") as code:\n",
    "        code.write(r.content)\n",
    "    \n",
    "    time.sleep(3)"
   ]
  },
  {
   "cell_type": "code",
   "execution_count": null,
   "metadata": {
    "collapsed": true
   },
   "outputs": [],
   "source": []
  }
 ],
 "metadata": {
  "kernelspec": {
   "display_name": "Python 3",
   "language": "python",
   "name": "python3"
  },
  "language_info": {
   "codemirror_mode": {
    "name": "ipython",
    "version": 3
   },
   "file_extension": ".py",
   "mimetype": "text/x-python",
   "name": "python",
   "nbconvert_exporter": "python",
   "pygments_lexer": "ipython3",
   "version": "3.5.3"
  }
 },
 "nbformat": 4,
 "nbformat_minor": 2
}
